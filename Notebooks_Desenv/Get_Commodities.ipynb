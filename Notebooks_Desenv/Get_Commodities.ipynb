{
 "cells": [
  {
   "cell_type": "code",
   "execution_count": 12,
   "id": "cad5fae2",
   "metadata": {},
   "outputs": [
    {
     "data": {
      "text/plain": [
       "[                                 preco ativo moeda               hora_request\n",
       " Datetime                                                                     \n",
       " 2025-08-21 14:02:00-04:00  3381.800049  GC=F   USD 2025-08-21 15:12:29.953847,\n",
       "                                preco ativo moeda               hora_request\n",
       " Datetime                                                                   \n",
       " 2025-08-21 14:02:00-04:00  63.509998  CL=F   USD 2025-08-21 15:12:30.690862,\n",
       "                                preco ativo moeda               hora_request\n",
       " Datetime                                                                   \n",
       " 2025-08-21 14:02:00-04:00  38.084999  SI=F   USD 2025-08-21 15:12:33.139765]"
      ]
     },
     "execution_count": 12,
     "metadata": {},
     "output_type": "execute_result"
    }
   ],
   "source": [
    "import yfinance as yf\n",
    "import pandas as pd\n",
    "from datetime import datetime\n",
    "\n",
    "\n",
    "    # Define o ticker\n",
    "ticker_symbol = [\"GC=F\",\"CL=F\",\"SI=F\"]\n",
    "\n",
    "dfs= []\n",
    "for sym in ticker_symbol:\n",
    "\n",
    "        # Obtenha dados históricos de mercado dos últimos 30 dias\n",
    "        historical_data = yf.Ticker(sym).history(period=\"1d\", interval=\"1m\")[['Close']].tail(1)\n",
    "        historical_data = historical_data.rename(columns={'Close': 'preco'})\n",
    "        historical_data['ativo'] = sym\n",
    "        historical_data['moeda'] = 'USD'\n",
    "        historical_data['hora_request'] = datetime.now()\n",
    "        historical_data_Final = historical_data[['preco','ativo','moeda','hora_request']]\n",
    "        dfs.append(historical_data_Final)\n",
    "\n",
    "dfs\n"
   ]
  }
 ],
 "metadata": {
  "kernelspec": {
   "display_name": ".venv",
   "language": "python",
   "name": "python3"
  },
  "language_info": {
   "codemirror_mode": {
    "name": "ipython",
    "version": 3
   },
   "file_extension": ".py",
   "mimetype": "text/x-python",
   "name": "python",
   "nbconvert_exporter": "python",
   "pygments_lexer": "ipython3",
   "version": "3.12.0"
  }
 },
 "nbformat": 4,
 "nbformat_minor": 5
}

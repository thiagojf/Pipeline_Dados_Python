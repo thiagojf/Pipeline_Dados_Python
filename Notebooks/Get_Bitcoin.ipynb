{
 "cells": [
  {
   "cell_type": "code",
   "execution_count": 1,
   "id": "a4c16899",
   "metadata": {},
   "outputs": [
    {
     "data": {
      "text/html": [
       "<div>\n",
       "<style scoped>\n",
       "    .dataframe tbody tr th:only-of-type {\n",
       "        vertical-align: middle;\n",
       "    }\n",
       "\n",
       "    .dataframe tbody tr th {\n",
       "        vertical-align: top;\n",
       "    }\n",
       "\n",
       "    .dataframe thead th {\n",
       "        text-align: right;\n",
       "    }\n",
       "</style>\n",
       "<table border=\"1\" class=\"dataframe\">\n",
       "  <thead>\n",
       "    <tr style=\"text-align: right;\">\n",
       "      <th></th>\n",
       "      <th>preco</th>\n",
       "      <th>ativo</th>\n",
       "      <th>moeda</th>\n",
       "      <th>hora_request</th>\n",
       "    </tr>\n",
       "  </thead>\n",
       "  <tbody>\n",
       "    <tr>\n",
       "      <th>0</th>\n",
       "      <td>114169.255</td>\n",
       "      <td>BTC</td>\n",
       "      <td>USD</td>\n",
       "      <td>2025-08-20 21:11:54.739318</td>\n",
       "    </tr>\n",
       "  </tbody>\n",
       "</table>\n",
       "</div>"
      ],
      "text/plain": [
       "        preco ativo moeda               hora_request\n",
       "0  114169.255   BTC   USD 2025-08-20 21:11:54.739318"
      ]
     },
     "execution_count": 1,
     "metadata": {},
     "output_type": "execute_result"
    }
   ],
   "source": [
    "import requests\n",
    "from datetime import datetime\n",
    "import pandas as pd\n",
    "\n",
    "\n",
    "def get_biticoin_df():\n",
    "        #URL API BITCOIN\n",
    "        url = \"https://api.coinbase.com/v2/prices/spot\"\n",
    "\n",
    "        # Requisição GET para API\n",
    "        response = requests.get(url)\n",
    "        #print (response.json())\n",
    "        data = response.json()\n",
    "\n",
    "        # Extração dos dados \n",
    "        preco = float(data['data']['amount'])\n",
    "        ativo = data['data']['base']\n",
    "        moeda = data['data']['currency']\n",
    "        hora_request =  datetime.now()\n",
    "\n",
    "\n",
    "        df = pd.DataFrame([{\n",
    "            'preco' : preco,\n",
    "            'ativo' : ativo,\n",
    "            'moeda' : moeda,\n",
    "            'hora_request' :  hora_request\n",
    "        }])\n",
    "\n",
    "        return df"
   ]
  }
 ],
 "metadata": {
  "kernelspec": {
   "display_name": ".venv",
   "language": "python",
   "name": "python3"
  },
  "language_info": {
   "codemirror_mode": {
    "name": "ipython",
    "version": 3
   },
   "file_extension": ".py",
   "mimetype": "text/x-python",
   "name": "python",
   "nbconvert_exporter": "python",
   "pygments_lexer": "ipython3",
   "version": "3.12.0"
  }
 },
 "nbformat": 4,
 "nbformat_minor": 5
}
